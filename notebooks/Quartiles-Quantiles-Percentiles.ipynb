{
 "cells": [
  {
   "cell_type": "markdown",
   "metadata": {},
   "source": [
    "# Quartiles, Quantiles and Percentiles"
   ]
  },
  {
   "cell_type": "markdown",
   "metadata": {},
   "source": [
    "## Introduction"
   ]
  },
  {
   "cell_type": "markdown",
   "metadata": {},
   "source": [
    "Suppose you have a list of countries and their population. The **quantile rank** (and **percentile rank**) of your country correspond the fraction of countries with populations lower or equal than your country. \n",
    "\n",
    "The difference is that the quantile goes from 0 to 1, and the percentile goes from 0% to 100%.  \n",
    "\n",
    "  - 0.25 quantile = 25th percentile = lower quartile\n",
    "  - 0.5  quantile = 50th percentile = median\n",
    "  - 0.75 quantile = 75th percentile = upper quartile\n",
    "  - etc.\n",
    "\n",
    "\n",
    "So if your country has more inhabitants than 75% of the other countries in the world, it is   \n",
    "  - in the 0.75 quantile\n",
    "  - in the 75th percentile\n",
    "  - in the upper quartile.\n",
    "  \n",
    "\n",
    "Let's compute the quantile rank of your contry."
   ]
  },
  {
   "cell_type": "markdown",
   "metadata": {},
   "source": [
    "## Practice"
   ]
  },
  {
   "cell_type": "code",
   "execution_count": 1,
   "metadata": {},
   "outputs": [],
   "source": [
    "import pandas as pd\n",
    "import numpy as np\n",
    "import matplotlib.pyplot as plt\n",
    "\n",
    "%matplotlib inline"
   ]
  },
  {
   "cell_type": "markdown",
   "metadata": {},
   "source": [
    "We will use a simplified version of the WorldBank population per country dataset - the original csv file is available here https://data.worldbank.org/indicator/SP.POP.TOTL."
   ]
  },
  {
   "cell_type": "code",
   "execution_count": 2,
   "metadata": {},
   "outputs": [
    {
     "data": {
      "text/html": [
       "<div>\n",
       "<style scoped>\n",
       "    .dataframe tbody tr th:only-of-type {\n",
       "        vertical-align: middle;\n",
       "    }\n",
       "\n",
       "    .dataframe tbody tr th {\n",
       "        vertical-align: top;\n",
       "    }\n",
       "\n",
       "    .dataframe thead th {\n",
       "        text-align: right;\n",
       "    }\n",
       "</style>\n",
       "<table border=\"1\" class=\"dataframe\">\n",
       "  <thead>\n",
       "    <tr style=\"text-align: right;\">\n",
       "      <th></th>\n",
       "      <th>country</th>\n",
       "      <th>population</th>\n",
       "    </tr>\n",
       "  </thead>\n",
       "  <tbody>\n",
       "    <tr>\n",
       "      <th>0</th>\n",
       "      <td>aruba</td>\n",
       "      <td>105845</td>\n",
       "    </tr>\n",
       "    <tr>\n",
       "      <th>1</th>\n",
       "      <td>afghanistan</td>\n",
       "      <td>37172386</td>\n",
       "    </tr>\n",
       "    <tr>\n",
       "      <th>2</th>\n",
       "      <td>angola</td>\n",
       "      <td>30809762</td>\n",
       "    </tr>\n",
       "  </tbody>\n",
       "</table>\n",
       "</div>"
      ],
      "text/plain": [
       "       country  population\n",
       "0        aruba      105845\n",
       "1  afghanistan    37172386\n",
       "2       angola    30809762"
      ]
     },
     "execution_count": 2,
     "metadata": {},
     "output_type": "execute_result"
    }
   ],
   "source": [
    "df = pd.read_csv(\"../data/countries-population-2018.csv\")\n",
    "df = df.dropna()\n",
    "df['population'] = df['population'].apply(lambda x: int(x))\n",
    "df.to_csv(\"../data/countries-population-2018.csv\", index=False)\n",
    "df.head(3)"
   ]
  },
  {
   "cell_type": "code",
   "execution_count": 3,
   "metadata": {},
   "outputs": [],
   "source": [
    "def QuantileRank(df, country):\n",
    "    \n",
    "    # your country's population\n",
    "    population = int(df[df['country']==country]['population'])\n",
    "    # countries with population lower or equal than your country\n",
    "    lower = df[df['population'] <= population]\n",
    "    # number of such countries\n",
    "    n_lower = len(lower.index)\n",
    "    # total number of countries\n",
    "    n_countries = len(df.index)\n",
    "    # percntile rank\n",
    "    quantile_rank = n_lower/n_countries\n",
    "    return quantile_rank\n",
    "\n",
    "def PercentileRank(df, country):\n",
    "    \n",
    "    # This is just the quantile rank, times 100\n",
    "    quantile_rank = QuantileRank(df, country)\n",
    "    percentile_rank = 100.0*quantile_rank\n",
    "    return percentile_rank\n"
   ]
  },
  {
   "cell_type": "markdown",
   "metadata": {},
   "source": [
    "Canada is the 81th percentile"
   ]
  },
  {
   "cell_type": "code",
   "execution_count": 4,
   "metadata": {},
   "outputs": [
    {
     "data": {
      "text/plain": [
       "81.73076923076923"
      ]
     },
     "execution_count": 4,
     "metadata": {},
     "output_type": "execute_result"
    }
   ],
   "source": [
    "PercentileRank(df, 'canada')"
   ]
  },
  {
   "cell_type": "markdown",
   "metadata": {},
   "source": [
    "India is in the 99th percentile"
   ]
  },
  {
   "cell_type": "code",
   "execution_count": 5,
   "metadata": {},
   "outputs": [
    {
     "data": {
      "text/plain": [
       "99.51923076923077"
      ]
     },
     "execution_count": 5,
     "metadata": {},
     "output_type": "execute_result"
    }
   ],
   "source": [
    "PercentileRank(df, 'india')"
   ]
  },
  {
   "cell_type": "markdown",
   "metadata": {},
   "source": [
    "China is in the 100th percentile, effectively the highest population in the world."
   ]
  },
  {
   "cell_type": "code",
   "execution_count": 6,
   "metadata": {},
   "outputs": [
    {
     "data": {
      "text/plain": [
       "100.0"
      ]
     },
     "execution_count": 6,
     "metadata": {},
     "output_type": "execute_result"
    }
   ],
   "source": [
    "PercentileRank(df, 'china')"
   ]
  },
  {
   "cell_type": "markdown",
   "metadata": {},
   "source": [
    "### Additional links\n",
    "\n",
    "  - [Think Stats, Chapter 4](https://greenteapress.com/thinkstats/)\n",
    "  - [Machine Learning, a Probabilistic Perspective, 2.2.6](https://www.cs.ubc.ca/~murphyk/MLbook/)\n",
    "  - https://www.statsdirect.com/help/nonparametric_methods/quantiles.htm"
   ]
  },
  {
   "cell_type": "code",
   "execution_count": null,
   "metadata": {},
   "outputs": [],
   "source": []
  }
 ],
 "metadata": {
  "kernelspec": {
   "display_name": "Python 3",
   "language": "python",
   "name": "python3"
  },
  "language_info": {
   "codemirror_mode": {
    "name": "ipython",
    "version": 3
   },
   "file_extension": ".py",
   "mimetype": "text/x-python",
   "name": "python",
   "nbconvert_exporter": "python",
   "pygments_lexer": "ipython3",
   "version": "3.6.8"
  }
 },
 "nbformat": 4,
 "nbformat_minor": 2
}
