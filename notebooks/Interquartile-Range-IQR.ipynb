{
 "cells": [
  {
   "cell_type": "markdown",
   "metadata": {},
   "source": [
    "# Interquartile Range (IQR)"
   ]
  },
  {
   "cell_type": "markdown",
   "metadata": {},
   "source": [
    "## Introduction"
   ]
  },
  {
   "cell_type": "markdown",
   "metadata": {},
   "source": [
    "Pre-requisite: Quartiles, Quantiles and Percentiles\n",
    "\n",
    "The **Interquartile range (IQR)** is the difference between the 75th percentile (0.75 quantile) and the 25th percentile (0.25 quantile). The IQR can be used to detech outliers in the data.\n",
    "\n",
    "\n",
    "<img src=\"img/IQR.jpg\" width=\"600px\"/>"
   ]
  },
  {
   "cell_type": "markdown",
   "metadata": {},
   "source": [
    "## Practice"
   ]
  },
  {
   "cell_type": "code",
   "execution_count": 1,
   "metadata": {},
   "outputs": [],
   "source": [
    "import pandas as pd\n",
    "import numpy as np\n",
    "import matplotlib.pyplot as plt\n",
    "\n",
    "%matplotlib inline"
   ]
  },
  {
   "cell_type": "markdown",
   "metadata": {},
   "source": [
    "### 1 - Dataset"
   ]
  },
  {
   "cell_type": "markdown",
   "metadata": {},
   "source": [
    "For this tutorial, we will use the global average temperatures from 1980 to 2016. The original dataset can be found here https://datahub.io/core/global-temp."
   ]
  },
  {
   "cell_type": "code",
   "execution_count": 2,
   "metadata": {},
   "outputs": [
    {
     "data": {
      "text/html": [
       "<div>\n",
       "<style scoped>\n",
       "    .dataframe tbody tr th:only-of-type {\n",
       "        vertical-align: middle;\n",
       "    }\n",
       "\n",
       "    .dataframe tbody tr th {\n",
       "        vertical-align: top;\n",
       "    }\n",
       "\n",
       "    .dataframe thead th {\n",
       "        text-align: right;\n",
       "    }\n",
       "</style>\n",
       "<table border=\"1\" class=\"dataframe\">\n",
       "  <thead>\n",
       "    <tr style=\"text-align: right;\">\n",
       "      <th></th>\n",
       "      <th>year</th>\n",
       "      <th>temperature</th>\n",
       "    </tr>\n",
       "  </thead>\n",
       "  <tbody>\n",
       "    <tr>\n",
       "      <th>0</th>\n",
       "      <td>2016</td>\n",
       "      <td>0.99</td>\n",
       "    </tr>\n",
       "    <tr>\n",
       "      <th>1</th>\n",
       "      <td>2015</td>\n",
       "      <td>0.87</td>\n",
       "    </tr>\n",
       "    <tr>\n",
       "      <th>2</th>\n",
       "      <td>2014</td>\n",
       "      <td>0.74</td>\n",
       "    </tr>\n",
       "  </tbody>\n",
       "</table>\n",
       "</div>"
      ],
      "text/plain": [
       "   year  temperature\n",
       "0  2016         0.99\n",
       "1  2015         0.87\n",
       "2  2014         0.74"
      ]
     },
     "execution_count": 2,
     "metadata": {},
     "output_type": "execute_result"
    }
   ],
   "source": [
    "df = pd.read_csv(\"../data/temperature_CO2.csv\")\n",
    "df = df.dropna()\n",
    "df = df[['year', 'temperature']]\n",
    "df.head(3)"
   ]
  },
  {
   "cell_type": "markdown",
   "metadata": {},
   "source": [
    "Let's see how the data looks like. It turns out that the mean annual global temperature on Earth is relatively cold. In fact, the annual global temperature from 2000 to 2009 was 0.61 °C, so 1.1 °F (source [here](https://www.currentresults.com/Environment-Facts/changes-in-earth-temperature.php))."
   ]
  },
  {
   "cell_type": "markdown",
   "metadata": {},
   "source": [
    "### 2 - Compute the percentiles"
   ]
  },
  {
   "cell_type": "markdown",
   "metadata": {},
   "source": [
    "To compute the IQR, we need to know which temperature corresponds to:  \n",
    "  - the 25th percentile (ie, warmer than 25% of the temperatures in this dataset)\n",
    "  - the 75th percentile (ie, warmer than 75% of the temperatures in this dataset)\n",
    "  \n",
    "To achieve this, first sort your dataset by ascending temperature, and rest the indices."
   ]
  },
  {
   "cell_type": "code",
   "execution_count": 3,
   "metadata": {},
   "outputs": [
    {
     "data": {
      "text/html": [
       "<div>\n",
       "<style scoped>\n",
       "    .dataframe tbody tr th:only-of-type {\n",
       "        vertical-align: middle;\n",
       "    }\n",
       "\n",
       "    .dataframe tbody tr th {\n",
       "        vertical-align: top;\n",
       "    }\n",
       "\n",
       "    .dataframe thead th {\n",
       "        text-align: right;\n",
       "    }\n",
       "</style>\n",
       "<table border=\"1\" class=\"dataframe\">\n",
       "  <thead>\n",
       "    <tr style=\"text-align: right;\">\n",
       "      <th></th>\n",
       "      <th>year</th>\n",
       "      <th>temperature</th>\n",
       "    </tr>\n",
       "  </thead>\n",
       "  <tbody>\n",
       "    <tr>\n",
       "      <th>0</th>\n",
       "      <td>1985</td>\n",
       "      <td>0.12</td>\n",
       "    </tr>\n",
       "    <tr>\n",
       "      <th>1</th>\n",
       "      <td>1982</td>\n",
       "      <td>0.13</td>\n",
       "    </tr>\n",
       "    <tr>\n",
       "      <th>2</th>\n",
       "      <td>1984</td>\n",
       "      <td>0.15</td>\n",
       "    </tr>\n",
       "    <tr>\n",
       "      <th>3</th>\n",
       "      <td>1986</td>\n",
       "      <td>0.19</td>\n",
       "    </tr>\n",
       "    <tr>\n",
       "      <th>4</th>\n",
       "      <td>1992</td>\n",
       "      <td>0.23</td>\n",
       "    </tr>\n",
       "  </tbody>\n",
       "</table>\n",
       "</div>"
      ],
      "text/plain": [
       "   year  temperature\n",
       "0  1985         0.12\n",
       "1  1982         0.13\n",
       "2  1984         0.15\n",
       "3  1986         0.19\n",
       "4  1992         0.23"
      ]
     },
     "execution_count": 3,
     "metadata": {},
     "output_type": "execute_result"
    }
   ],
   "source": [
    "df = df.sort_values(by='temperature').reset_index(drop=True)\n",
    "df.head()"
   ]
  },
  {
   "cell_type": "markdown",
   "metadata": {},
   "source": [
    "Then, use a rule of three to find the index of the value corresponding to your percentile rank. Example for the 25th percentile:\n",
    "\n",
    "$$ \n",
    "\\begin{align}\n",
    " \\textbf{length(data) - 1}  &\\longrightarrow 100^{th} \\text{percentile} \\\\\n",
    " \\textbf{x}                &\\longrightarrow 25^{th} \\text{percentile} \\\\\n",
    "\\end{align}\n",
    "$$\n",
    "\n",
    "The <code>-1</code> takes into account the fact that indices start at zero. So \n",
    "\n",
    "$$x = \\frac{(\\text{length(data)} - 1) * 25}{100}$$\n",
    "\n",
    "And in general\n",
    "\n",
    "$$x = \\frac{(\\text{length(data)} - 1) * \\text{percentile_rank}}{100}$$"
   ]
  },
  {
   "cell_type": "code",
   "execution_count": 4,
   "metadata": {},
   "outputs": [],
   "source": [
    "def get_percentile(df, percentile_rank):\n",
    "    \n",
    "    # First, sort by ascending temperature, reset the indices\n",
    "    df = df.sort_values(by='temperature').reset_index()\n",
    "    \n",
    "    # Rule of three to get the index of the temperature\n",
    "    index = (len(df.index)-1) * percentile_rank / 100.0\n",
    "    index = int(index)\n",
    "    \n",
    "    # Return the temperature corresponding to the percentile rank\n",
    "    return df.at[index, 'temperature']"
   ]
  },
  {
   "cell_type": "markdown",
   "metadata": {},
   "source": [
    "So we see that the 25th percentile is 0.32 degrees Celcius, and the 75th percentile is 0.63 degrees celcius."
   ]
  },
  {
   "cell_type": "code",
   "execution_count": 5,
   "metadata": {},
   "outputs": [
    {
     "data": {
      "text/plain": [
       "0.32"
      ]
     },
     "execution_count": 5,
     "metadata": {},
     "output_type": "execute_result"
    }
   ],
   "source": [
    "get_percentile(df, 25)"
   ]
  },
  {
   "cell_type": "code",
   "execution_count": 6,
   "metadata": {},
   "outputs": [
    {
     "data": {
      "text/plain": [
       "0.63"
      ]
     },
     "execution_count": 6,
     "metadata": {},
     "output_type": "execute_result"
    }
   ],
   "source": [
    "get_percentile(df, 75)"
   ]
  },
  {
   "cell_type": "markdown",
   "metadata": {},
   "source": [
    "### 3 - Compute the IQR"
   ]
  },
  {
   "cell_type": "markdown",
   "metadata": {},
   "source": [
    "Almost done: since the interquartile range (IQR) is the difference between the 75th percentile and the 25th percentile, all we need to do is to subtract both temperature values."
   ]
  },
  {
   "cell_type": "code",
   "execution_count": 7,
   "metadata": {},
   "outputs": [],
   "source": [
    "def interquartile_range(df):\n",
    "    \n",
    "    p75 = get_percentile(df, 75)  # 75th percentile\n",
    "    p25 = get_percentile(df, 25)  # 75th percentile\n",
    "    iqr = p75 - p25  # Interquartile Range\n",
    "    return iqr"
   ]
  },
  {
   "cell_type": "markdown",
   "metadata": {},
   "source": [
    "So our computed interquartile range for the temperature dataframe is 0.31"
   ]
  },
  {
   "cell_type": "code",
   "execution_count": 8,
   "metadata": {},
   "outputs": [
    {
     "data": {
      "text/plain": [
       "0.31"
      ]
     },
     "execution_count": 8,
     "metadata": {},
     "output_type": "execute_result"
    }
   ],
   "source": [
    "interquartile_range(df)"
   ]
  },
  {
   "cell_type": "markdown",
   "metadata": {},
   "source": [
    "## Validation"
   ]
  },
  {
   "cell_type": "markdown",
   "metadata": {},
   "source": [
    "Coding the IQR from scratch is a good way to learn the math behind it, but in real life, you would use a Python library to save time. We can use the <code>iqr()</code> function from <code>scipy.stats</code> to validate our result."
   ]
  },
  {
   "cell_type": "code",
   "execution_count": 9,
   "metadata": {},
   "outputs": [
    {
     "data": {
      "text/plain": [
       "0.31"
      ]
     },
     "execution_count": 9,
     "metadata": {},
     "output_type": "execute_result"
    }
   ],
   "source": [
    "from scipy.stats import iqr\n",
    "\n",
    "iqr(df['temperature'])"
   ]
  },
  {
   "cell_type": "markdown",
   "metadata": {},
   "source": [
    "Yay, we got the same value :-D"
   ]
  },
  {
   "cell_type": "markdown",
   "metadata": {},
   "source": [
    "## Visualization"
   ]
  },
  {
   "cell_type": "markdown",
   "metadata": {},
   "source": [
    "Let's plot the 25th percentile, the 50th percentile (median) and the 75th percentile of the data."
   ]
  },
  {
   "cell_type": "code",
   "execution_count": 10,
   "metadata": {},
   "outputs": [
    {
     "data": {
      "image/png": "[encoded data removed]",
      "text/plain": [
       "<Figure size 864x288 with 1 Axes>"
      ]
     },
     "metadata": {
      "needs_background": "light"
     },
     "output_type": "display_data"
    }
   ],
   "source": [
    "plt.figure(figsize=(12,4))\n",
    "plt.hist(df['temperature'])\n",
    "plt.title(\"Total number of years: %s\" % len(df.index))\n",
    "plt.xlabel(\"Mean Annual Temperature (Degrees Celcius)\")\n",
    "\n",
    "# Vertical lines for each percentile of interest\n",
    "plt.axvline(get_percentile(df, 25), linestyle='--', color='red')\n",
    "plt.axvline(get_percentile(df, 50), linestyle='-',  color='red')\n",
    "plt.axvline(get_percentile(df, 75), linestyle='--', color='red')\n",
    "\n",
    "plt.show()"
   ]
  },
  {
   "cell_type": "markdown",
   "metadata": {},
   "source": [
    "## Additional links\n",
    "\n",
    "  - [Think Stats, Chapter 4](https://greenteapress.com/thinkstats/)\n",
    "  - https://docs.scipy.org/doc/scipy/reference/generated/scipy.stats.iqr.html\n",
    "  - https://en.wikipedia.org/wiki/Interquartile_range"
   ]
  },
  {
   "cell_type": "markdown",
   "metadata": {},
   "source": [
    "## Extra: Data Preparation Steps"
   ]
  },
  {
   "cell_type": "code",
   "execution_count": 11,
   "metadata": {},
   "outputs": [],
   "source": [
    "# Global temperatures\n",
    "temp = pd.read_csv(\"../data/global_temp_annual.csv\")\n",
    "temp = temp.rename(columns={'Year':'year', 'Mean':'temperature'})\n",
    "\n",
    "# Mean CO2\n",
    "CO2 = pd.read_csv(\"../data/rates_CO2.csv\")\n",
    "CO2['Date'] = pd.to_datetime(CO2['Date']).dt.year\n",
    "CO2 = CO2.rename(columns={'Date':'year', 'MeanCO2':'CO2'})\n",
    "\n",
    "# Merge both dataframes\n",
    "df = pd.merge(temp, CO2, on='year', how='inner')\n",
    "df.to_csv(\"../data/temperature_CO2.csv\", index=False)"
   ]
  },
  {
   "cell_type": "code",
   "execution_count": null,
   "metadata": {},
   "outputs": [],
   "source": []
  }
 ],
 "metadata": {
  "kernelspec": {
   "display_name": "Python 3",
   "language": "python",
   "name": "python3"
  },
  "language_info": {
   "codemirror_mode": {
    "name": "ipython",
    "version": 3
   },
   "file_extension": ".py",
   "mimetype": "text/x-python",
   "name": "python",
   "nbconvert_exporter": "python",
   "pygments_lexer": "ipython3",
   "version": "3.6.8"
  }
 },
 "nbformat": 4,
 "nbformat_minor": 2
}
