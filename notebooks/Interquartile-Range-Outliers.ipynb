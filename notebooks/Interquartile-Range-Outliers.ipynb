{
 "cells": [
  {
   "cell_type": "markdown",
   "metadata": {},
   "source": [
    "# Using  the Interquartile Range (IQR) to Detect Outliers in the Data"
   ]
  },
  {
   "cell_type": "markdown",
   "metadata": {},
   "source": [
    "## Introduction"
   ]
  },
  {
   "cell_type": "markdown",
   "metadata": {},
   "source": [
    "Pre-requisite: Interquartile Range (IQR)\n",
    "\n",
    "\n",
    "Recall that the **Interquartile range (IQR)** is the difference between the 75th percentile (0.75 quantile) and the 25th percentile (0.25 quantile). In the last tutorial, we learned how to compute the interquartile range from scratch.  \n",
    "\n",
    "&nbsp;\n",
    "\n",
    "**But how is the IQR going to help you for Data Science?**\n",
    "\n",
    "One practical use of the IQR is to detect outliers in your data. The general rule is that outliers are observations that fall:  \n",
    "  - below **25th percentile - 1.5 * IQR**, or  \n",
    "  - above **75th percentile + 1.5 * IQR**\n",
    "\n",
    "In fact, when you create a box plot from the data, this is exactly what you see\n",
    "\n",
    "\n",
    "<img src=\"img/box_plot_ref_needed.png\" width=\"600px\"/>\n",
    "<center>Image source: https://towardsdatascience.com/understanding-boxplots-5e2df7bcbd51</center>\n",
    "\n",
    "&nbsp;\n",
    "\n",
    "In this tutorial, we will use the IQR method to see which countries in the World are outliers in terms of wealth."
   ]
  },
  {
   "cell_type": "markdown",
   "metadata": {},
   "source": [
    "## Practice"
   ]
  },
  {
   "cell_type": "code",
   "execution_count": 1,
   "metadata": {},
   "outputs": [],
   "source": [
    "import pandas as pd\n",
    "import numpy as np\n",
    "import matplotlib.pyplot as plt\n",
    "\n",
    "%matplotlib inline"
   ]
  },
  {
   "cell_type": "markdown",
   "metadata": {},
   "source": [
    "### 1 - Dataset"
   ]
  },
  {
   "cell_type": "markdown",
   "metadata": {},
   "source": [
    "For this tutorial, we will use the GDP per capita in 2018 ($USD). The original data can be found [here](https://data.worldbank.org/indicator/NY.GDP.PCAP.CD).  \n",
    "\n",
    "According to [Investopedia](https://www.investopedia.com/terms/p/per-capita-gdp.asp), Per capita GDP is a global measure for gauging the prosperity of nations and is used by economists, along with GDP, to analyze the prosperity of a country based on its economic growth."
   ]
  },
  {
   "cell_type": "code",
   "execution_count": 2,
   "metadata": {},
   "outputs": [
    {
     "data": {
      "text/html": [
       "<div>\n",
       "<style scoped>\n",
       "    .dataframe tbody tr th:only-of-type {\n",
       "        vertical-align: middle;\n",
       "    }\n",
       "\n",
       "    .dataframe tbody tr th {\n",
       "        vertical-align: top;\n",
       "    }\n",
       "\n",
       "    .dataframe thead th {\n",
       "        text-align: right;\n",
       "    }\n",
       "</style>\n",
       "<table border=\"1\" class=\"dataframe\">\n",
       "  <thead>\n",
       "    <tr style=\"text-align: right;\">\n",
       "      <th></th>\n",
       "      <th>country</th>\n",
       "      <th>gdp</th>\n",
       "    </tr>\n",
       "  </thead>\n",
       "  <tbody>\n",
       "    <tr>\n",
       "      <th>1</th>\n",
       "      <td>Afghanistan</td>\n",
       "      <td>520.896603</td>\n",
       "    </tr>\n",
       "    <tr>\n",
       "      <th>2</th>\n",
       "      <td>Angola</td>\n",
       "      <td>3432.385736</td>\n",
       "    </tr>\n",
       "    <tr>\n",
       "      <th>3</th>\n",
       "      <td>Albania</td>\n",
       "      <td>5268.848504</td>\n",
       "    </tr>\n",
       "    <tr>\n",
       "      <th>4</th>\n",
       "      <td>Andorra</td>\n",
       "      <td>42029.762737</td>\n",
       "    </tr>\n",
       "    <tr>\n",
       "      <th>5</th>\n",
       "      <td>United Arab Emirates</td>\n",
       "      <td>43004.953358</td>\n",
       "    </tr>\n",
       "  </tbody>\n",
       "</table>\n",
       "</div>"
      ],
      "text/plain": [
       "                country           gdp\n",
       "1           Afghanistan    520.896603\n",
       "2                Angola   3432.385736\n",
       "3               Albania   5268.848504\n",
       "4               Andorra  42029.762737\n",
       "5  United Arab Emirates  43004.953358"
      ]
     },
     "execution_count": 2,
     "metadata": {},
     "output_type": "execute_result"
    }
   ],
   "source": [
    "df = pd.read_csv(\"../data/gdp_per_capita.csv\")\n",
    "# using the GDP per capita in 2018, latest year available\n",
    "df = df[['Country Name', '2018']] \n",
    "df = df.dropna()\n",
    "df = df.rename(columns={\n",
    "    'Country Name': 'country', \n",
    "    '2018':'gdp'\n",
    "})\n",
    "# Display the first rows of the dataframe\n",
    "df.head()"
   ]
  },
  {
   "cell_type": "markdown",
   "metadata": {},
   "source": [
    "### 2 - IQR Outlier Detection Method"
   ]
  },
  {
   "cell_type": "markdown",
   "metadata": {},
   "source": [
    "For a step-by-step breakdown of this function, refer to my previous post on Interquartile Range (IQR)."
   ]
  },
  {
   "cell_type": "code",
   "execution_count": 3,
   "metadata": {},
   "outputs": [],
   "source": [
    "def get_percentile(df, percentile_rank):\n",
    "    \n",
    "    # First, sort by ascending gdp, reset the indices\n",
    "    df = df.sort_values(by='gdp').reset_index()\n",
    "    \n",
    "    # Rule of three to get the index of the gdp\n",
    "    index = (len(df.index)-1) * percentile_rank / 100.0\n",
    "    index = int(index)\n",
    "    \n",
    "    # Return the gdp corresponding to the percentile rank\n",
    "    # as well as the name of the corresponding country\n",
    "    return (df.at[index, 'country'], df.at[index, 'gdp'])\n",
    "\n",
    "\n",
    "def interquartile_range(df):\n",
    "    \n",
    "    c75, p75 = get_percentile(df, 75)  # 75th percentile country and gdp\n",
    "    c25, p25 = get_percentile(df, 25)  # 25th percentile country and gdp\n",
    "    iqr = p75 - p25  # Interquartile Range\n",
    "    return iqr\n"
   ]
  },
  {
   "cell_type": "markdown",
   "metadata": {},
   "source": [
    "First, comptute the interquartile range in terms of GDP per Capita. In 2017, the difference between the 25th  country and the 75th country in terms of GDP per capita  was around USD$ 17,306 per person."
   ]
  },
  {
   "cell_type": "code",
   "execution_count": 4,
   "metadata": {},
   "outputs": [
    {
     "data": {
      "text/plain": [
       "17137.727817263032"
      ]
     },
     "execution_count": 4,
     "metadata": {},
     "output_type": "execute_result"
    }
   ],
   "source": [
    "iqr = interquartile_range(df)\n",
    "iqr"
   ]
  },
  {
   "cell_type": "markdown",
   "metadata": {},
   "source": [
    "Now detect the outliers"
   ]
  },
  {
   "cell_type": "code",
   "execution_count": 5,
   "metadata": {},
   "outputs": [],
   "source": [
    "def get_outliers(df):\n",
    "    \n",
    "    # Compute the 25th percentile, the 75th percentile and the IQR\n",
    "    c25, p25 = get_percentile(df, 25)\n",
    "    c75, p75 = get_percentile(df, 75)\n",
    "    iqr = interquartile_range(df)\n",
    "    \n",
    "    # \"Minimum non-outlier value\": 25th percentile - 1.5 * IQR\n",
    "    min_val = p25 - 1.5*iqr\n",
    "    # \"Maximum non-outlier value\": 75th percentile + 1.5 * IQR\n",
    "    max_val = p75 + 1.5*iqr\n",
    "\n",
    "    # Anything below the minimum or above the maximum becomes\n",
    "    # an outlier\n",
    "    outliers = df[(df['gdp'] < min_val) | (df['gdp'] > max_val)]\n",
    "    return outliers"
   ]
  },
  {
   "cell_type": "code",
   "execution_count": 15,
   "metadata": {},
   "outputs": [
    {
     "data": {
      "text/html": [
       "<div>\n",
       "<style scoped>\n",
       "    .dataframe tbody tr th:only-of-type {\n",
       "        vertical-align: middle;\n",
       "    }\n",
       "\n",
       "    .dataframe tbody tr th {\n",
       "        vertical-align: top;\n",
       "    }\n",
       "\n",
       "    .dataframe thead th {\n",
       "        text-align: right;\n",
       "    }\n",
       "</style>\n",
       "<table border=\"1\" class=\"dataframe\">\n",
       "  <thead>\n",
       "    <tr style=\"text-align: right;\">\n",
       "      <th></th>\n",
       "      <th>country</th>\n",
       "      <th>gdp</th>\n",
       "    </tr>\n",
       "  </thead>\n",
       "  <tbody>\n",
       "    <tr>\n",
       "      <th>122</th>\n",
       "      <td>Monaco</td>\n",
       "      <td>185741.279992</td>\n",
       "    </tr>\n",
       "    <tr>\n",
       "      <th>117</th>\n",
       "      <td>Luxembourg</td>\n",
       "      <td>116597.295638</td>\n",
       "    </tr>\n",
       "    <tr>\n",
       "      <th>119</th>\n",
       "      <td>Macao SAR, China</td>\n",
       "      <td>87208.535913</td>\n",
       "    </tr>\n",
       "    <tr>\n",
       "      <th>33</th>\n",
       "      <td>Switzerland</td>\n",
       "      <td>82828.797372</td>\n",
       "    </tr>\n",
       "    <tr>\n",
       "      <th>144</th>\n",
       "      <td>Norway</td>\n",
       "      <td>81734.465574</td>\n",
       "    </tr>\n",
       "    <tr>\n",
       "      <th>92</th>\n",
       "      <td>Ireland</td>\n",
       "      <td>78582.948100</td>\n",
       "    </tr>\n",
       "    <tr>\n",
       "      <th>95</th>\n",
       "      <td>Iceland</td>\n",
       "      <td>73368.117464</td>\n",
       "    </tr>\n",
       "    <tr>\n",
       "      <th>161</th>\n",
       "      <td>Qatar</td>\n",
       "      <td>68793.784437</td>\n",
       "    </tr>\n",
       "    <tr>\n",
       "      <th>168</th>\n",
       "      <td>Singapore</td>\n",
       "      <td>64581.944018</td>\n",
       "    </tr>\n",
       "    <tr>\n",
       "      <th>198</th>\n",
       "      <td>United States</td>\n",
       "      <td>62886.836485</td>\n",
       "    </tr>\n",
       "    <tr>\n",
       "      <th>53</th>\n",
       "      <td>Denmark</td>\n",
       "      <td>61390.693010</td>\n",
       "    </tr>\n",
       "    <tr>\n",
       "      <th>10</th>\n",
       "      <td>Australia</td>\n",
       "      <td>57395.919466</td>\n",
       "    </tr>\n",
       "    <tr>\n",
       "      <th>180</th>\n",
       "      <td>Sweden</td>\n",
       "      <td>54651.085367</td>\n",
       "    </tr>\n",
       "    <tr>\n",
       "      <th>143</th>\n",
       "      <td>Netherlands</td>\n",
       "      <td>53022.191391</td>\n",
       "    </tr>\n",
       "    <tr>\n",
       "      <th>11</th>\n",
       "      <td>Austria</td>\n",
       "      <td>51499.885361</td>\n",
       "    </tr>\n",
       "    <tr>\n",
       "      <th>63</th>\n",
       "      <td>Finland</td>\n",
       "      <td>50175.299816</td>\n",
       "    </tr>\n",
       "    <tr>\n",
       "      <th>84</th>\n",
       "      <td>Hong Kong SAR, China</td>\n",
       "      <td>48675.616460</td>\n",
       "    </tr>\n",
       "    <tr>\n",
       "      <th>50</th>\n",
       "      <td>Germany</td>\n",
       "      <td>47615.740028</td>\n",
       "    </tr>\n",
       "    <tr>\n",
       "      <th>14</th>\n",
       "      <td>Belgium</td>\n",
       "      <td>47472.136730</td>\n",
       "    </tr>\n",
       "    <tr>\n",
       "      <th>32</th>\n",
       "      <td>Canada</td>\n",
       "      <td>46234.350746</td>\n",
       "    </tr>\n",
       "  </tbody>\n",
       "</table>\n",
       "</div>"
      ],
      "text/plain": [
       "                  country            gdp\n",
       "122                Monaco  185741.279992\n",
       "117            Luxembourg  116597.295638\n",
       "119      Macao SAR, China   87208.535913\n",
       "33            Switzerland   82828.797372\n",
       "144                Norway   81734.465574\n",
       "92                Ireland   78582.948100\n",
       "95                Iceland   73368.117464\n",
       "161                 Qatar   68793.784437\n",
       "168             Singapore   64581.944018\n",
       "198         United States   62886.836485\n",
       "53                Denmark   61390.693010\n",
       "10              Australia   57395.919466\n",
       "180                Sweden   54651.085367\n",
       "143           Netherlands   53022.191391\n",
       "11                Austria   51499.885361\n",
       "63                Finland   50175.299816\n",
       "84   Hong Kong SAR, China   48675.616460\n",
       "50                Germany   47615.740028\n",
       "14                Belgium   47472.136730\n",
       "32                 Canada   46234.350746"
      ]
     },
     "execution_count": 15,
     "metadata": {},
     "output_type": "execute_result"
    }
   ],
   "source": [
    "outliers = get_outliers(df)\n",
    "outliers = outliers.sort_values(by='gdp', ascending=False)\n",
    "outliers"
   ]
  },
  {
   "cell_type": "markdown",
   "metadata": {},
   "source": [
    "As you can see, all of the outliers are **rich** countries. No poor country was considered to be an outlier. This is because the median GDP is at USD$ 6,631"
   ]
  },
  {
   "cell_type": "code",
   "execution_count": 16,
   "metadata": {},
   "outputs": [
    {
     "name": "stdout",
     "output_type": "stream",
     "text": [
      "Median GDP per capita on earth = USD$ 6344 (Ecuador)\n"
     ]
    }
   ],
   "source": [
    "c50, p50 = get_percentile(df, 50)\n",
    "print(\"Median GDP per capita on earth = USD$ %s (%s)\" % (int(p50), c50))"
   ]
  },
  {
   "cell_type": "markdown",
   "metadata": {},
   "source": [
    "Because the IQR is at $17,306 (see above), the minimum non-outlier value is negative, which is impossible for a a Gross Domestic Product."
   ]
  },
  {
   "cell_type": "code",
   "execution_count": 17,
   "metadata": {},
   "outputs": [
    {
     "name": "stdout",
     "output_type": "stream",
     "text": [
      "Minimum non-outlier value = $ -19361\n"
     ]
    }
   ],
   "source": [
    "# \"Minimum non-outlier value\": 25th percentile - 1.5 * IQR\n",
    "c25, p25 = get_percentile(df, 25)\n",
    "min_val = p50 - 1.5*iqr\n",
    "print(\"Minimum non-outlier value = $ %s\" % int(min_val))"
   ]
  },
  {
   "cell_type": "markdown",
   "metadata": {},
   "source": [
    "However, the maximum non-outlier value is exceeded multiple times."
   ]
  },
  {
   "cell_type": "code",
   "execution_count": 11,
   "metadata": {},
   "outputs": [
    {
     "data": {
      "image/png": "[encoded data removed]",
      "text/plain": [
       "<Figure size 864x288 with 1 Axes>"
      ]
     },
     "metadata": {
      "needs_background": "light"
     },
     "output_type": "display_data"
    }
   ],
   "source": [
    "plt.figure(figsize=(12,4))\n",
    "plt.hist(df['gdp'], bins=25)\n",
    "plt.title(\"Total number of countries: %s\" % len(df.index))\n",
    "plt.xlabel(\"GDP at Purchasing Power Parity (PPP) per capita in 2017\")\n",
    "\n",
    "c75, p75 = get_percentile(df, 75)  # 75th percentile country and gdp\n",
    "c50, p50 = get_percentile(df, 50)  # median country and gdp\n",
    "c25, p25 = get_percentile(df, 25)  # 25th percentile country and gdp\n",
    "\n",
    "# Vertical lines for each percentile of interest\n",
    "plt.axvline(p25, linestyle='--', color='#ffa700', label='25th percentile')\n",
    "plt.axvline(p50, linestyle='--', color='#5bc0de', label='50th percentile (median)')\n",
    "plt.axvline(p75, linestyle='--', color='#5cb85c', label='75th percentile')\n",
    "\n",
    "# Maximum non-outlier value\n",
    "maxval = p75 + 1.5*iqr\n",
    "plt.axvline(maxval, linestyle='--', color='#d9534f', label='Maximum non-outlier')\n",
    "\n",
    "plt.legend(loc='best')\n",
    "plt.show()"
   ]
  },
  {
   "cell_type": "markdown",
   "metadata": {},
   "source": [
    "### In Conclusion\n",
    "\n",
    "Using the IQR rule to detect outliers, we can see that, in 2018\n",
    "  - no country in the world was *abnormally* poor compared to the rest, but\n",
    "  - several countries were *abnormally* rich compared to the rest in terms of GDP per capita\n",
    "  \n",
    "Also notice how the median (in light blue) is closer to the lower quartile (25th percentile) than the upper quartile (75th percentile). This is because the data is skewed to the right: very few countries have a very high GDP per capita. This is an example of how statistics can show us that our generation still has a lot of work to do to address the problem disparity of wealth."
   ]
  },
  {
   "cell_type": "code",
   "execution_count": null,
   "metadata": {},
   "outputs": [],
   "source": []
  },
  {
   "cell_type": "code",
   "execution_count": null,
   "metadata": {},
   "outputs": [],
   "source": []
  }
 ],
 "metadata": {
  "kernelspec": {
   "display_name": "Python 3",
   "language": "python",
   "name": "python3"
  },
  "language_info": {
   "codemirror_mode": {
    "name": "ipython",
    "version": 3
   },
   "file_extension": ".py",
   "mimetype": "text/x-python",
   "name": "python",
   "nbconvert_exporter": "python",
   "pygments_lexer": "ipython3",
   "version": "3.6.8"
  }
 },
 "nbformat": 4,
 "nbformat_minor": 2
}
